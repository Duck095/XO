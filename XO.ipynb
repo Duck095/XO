{
 "cells": [
  {
   "cell_type": "code",
   "execution_count": 14,
   "metadata": {},
   "outputs": [],
   "source": [
    "import cv2\n",
    "import numpy as np\n",
    "from skimage.feature import hog\n",
    "from skimage import color, io\n",
    "from sklearn import svm\n",
    "from sklearn.model_selection import train_test_split\n",
    "import os\n",
    "\n",
    "# Hàm trích xuất đặc trưng HOG từ ảnh\n",
    "def extract_hog_features(image):\n",
    "    gray_image = color.rgb2gray(image)  # Chuyển ảnh sang ảnh xám\n",
    "    fd, hog_image = hog(gray_image, pixels_per_cell=(8, 8), cells_per_block=(2, 2), visualize=True)\n",
    "    return fd\n",
    "\n",
    "# Đọc ảnh và trích xuất đặc trưng HOG\n",
    "data = []\n",
    "labels = []\n",
    "\n",
    "# Đường dẫn đến thư mục ảnh\n",
    "image_folder_board = 'dataSet/board/'\n",
    "image_folder_non_board = 'dataSet/non_board/'\n",
    "  # Cập nhật đường dẫn đến thư mục chứa ảnh\n",
    "\n",
    "# Tải ảnh và gán nhãn (0 cho ảnh không phải bàn cờ, 1 cho ảnh là bàn cờ)\n",
    "for filename in os.listdir(image_folder_board):\n",
    "    image = io.imread(os.path.join(image_folder_board, filename))\n",
    "    features = extract_hog_features(image)\n",
    "    data.append(features)\n",
    "    labels.append(1)  # Nhãn 1 cho bàn cờ\n",
    "\n",
    "for filename in os.listdir(image_folder_non_board):\n",
    "    image = io.imread(os.path.join(image_folder_non_board, filename))\n",
    "    features = extract_hog_features(image)\n",
    "    data.append(features)\n",
    "    labels.append(0)  # Nhãn 0 cho ảnh không phải bàn cờ\n",
    "\n",
    "\n",
    "# Chuyển dữ liệu và nhãn thành numpy array\n",
    "data = np.array(data)\n",
    "labels = np.array(labels)\n"
   ]
  },
  {
   "cell_type": "code",
   "execution_count": 15,
   "metadata": {},
   "outputs": [
    {
     "name": "stdout",
     "output_type": "stream",
     "text": [
      "Accuracy of the model: 100.00%\n"
     ]
    },
    {
     "data": {
      "text/plain": [
       "['board_detection_model.pkl']"
      ]
     },
     "execution_count": 15,
     "metadata": {},
     "output_type": "execute_result"
    }
   ],
   "source": [
    "# Chia dữ liệu thành tập huấn luyện và kiểm tra\n",
    "X_train, X_test, y_train, y_test = train_test_split(data, labels, test_size=0.2, random_state=42)\n",
    "\n",
    "# Khởi tạo mô hình SVM với kernel tuyến tính\n",
    "model = svm.SVC(kernel='linear')\n",
    "\n",
    "# Huấn luyện mô hình\n",
    "model.fit(X_train, y_train)\n",
    "\n",
    "# Đánh giá mô hình\n",
    "accuracy = model.score(X_test, y_test)\n",
    "print(f\"Accuracy of the model: {accuracy * 100:.2f}%\")\n",
    "\n",
    "# Lưu mô hình đã huấn luyện\n",
    "import joblib\n",
    "joblib.dump(model, 'board_detection_model.pkl')\n"
   ]
  },
  {
   "cell_type": "code",
   "execution_count": 2,
   "metadata": {},
   "outputs": [],
   "source": [
    "import cv2\n",
    "import numpy as np\n",
    "from skimage.feature import hog\n",
    "from skimage import color\n",
    "import joblib\n",
    "\n",
    "# Hàm trích xuất đặc trưng HOG từ ảnh\n",
    "def extract_hog_features(image):\n",
    "    # Resize ảnh về kích thước cố định (giống tập huấn luyện)\n",
    "    fixed_size = (300, 300)  # Đảm bảo giống kích thước ảnh huấn luyện\n",
    "    image = cv2.resize(image, fixed_size)\n",
    "\n",
    "    # Kiểm tra nếu ảnh có 3 kênh màu (RGB/BGR) thì chuyển sang ảnh xám\n",
    "    if len(image.shape) == 3 and image.shape[2] == 3:\n",
    "        gray_image = color.rgb2gray(image)\n",
    "    else:\n",
    "        gray_image = image\n",
    "\n",
    "    # Trích xuất đặc trưng HOG\n",
    "    fd, hog_image = hog(gray_image, pixels_per_cell=(8, 8), cells_per_block=(2, 2), visualize=True)\n",
    "    return fd\n",
    "\n",
    "\n",
    "\n",
    "# Mở camera\n",
    "cap = cv2.VideoCapture(0)\n",
    "\n",
    "# Tải mô hình đã huấn luyện\n",
    "model = joblib.load('board_detection_model.pkl')\n",
    "\n",
    "while True:\n",
    "    ret, frame = cap.read()\n",
    "\n",
    "    if not ret:\n",
    "        break\n",
    "\n",
    "    # Chuyển đổi ảnh sang xám nếu cần\n",
    "    if len(frame.shape) == 3 and frame.shape[2] == 3:\n",
    "        gray = cv2.cvtColor(frame, cv2.COLOR_BGR2GRAY)\n",
    "    else:\n",
    "        gray = frame  # Nếu đã là ảnh xám, giữ nguyên\n",
    "\n",
    "    # Trích xuất đặc trưng HOG (đảm bảo resize ảnh trước)\n",
    "    features = extract_hog_features(gray)\n",
    "\n",
    "    # Đảm bảo số đặc trưng khớp với mô hình\n",
    "    if features.shape[0] != model.n_features_in_:\n",
    "        print(f\"⚠️ Cảnh báo: Số đặc trưng ({features.shape[0]}) không khớp với mô hình ({model.n_features_in_})\")\n",
    "        continue  # Bỏ qua frame này để tránh lỗi\n",
    "\n",
    "    # Dự đoán với mô hình đã huấn luyện\n",
    "    prediction = model.predict([features])\n",
    "\n",
    "    # Hiển thị kết quả dự đoán trên màn hình\n",
    "    label = f\"Bàn cờ caro\" if prediction == 1 else f\"Không phải bàn cờ caro\"\n",
    "    \n",
    "    # Hiển thị text lên ảnh\n",
    "    cv2.putText(frame, label, (10, 50), cv2.FONT_HERSHEY_SIMPLEX, 1, (0, 255, 0), 2)\n",
    "\n",
    "    # Hiển thị video với dự đoán\n",
    "    cv2.imshow(\"Board Detection\", frame)\n",
    "\n",
    "    if cv2.waitKey(1) & 0xFF == ord('q'):  # Nhấn 'q' để thoát\n",
    "        break\n",
    "\n",
    "# Giải phóng tài nguyên\n",
    "cap.release()\n",
    "cv2.destroyAllWindows()\n",
    "\n"
   ]
  },
  {
   "cell_type": "code",
   "execution_count": null,
   "metadata": {},
   "outputs": [],
   "source": []
  }
 ],
 "metadata": {
  "kernelspec": {
   "display_name": ".venv",
   "language": "python",
   "name": "python3"
  },
  "language_info": {
   "codemirror_mode": {
    "name": "ipython",
    "version": 3
   },
   "file_extension": ".py",
   "mimetype": "text/x-python",
   "name": "python",
   "nbconvert_exporter": "python",
   "pygments_lexer": "ipython3",
   "version": "3.13.1"
  }
 },
 "nbformat": 4,
 "nbformat_minor": 2
}
